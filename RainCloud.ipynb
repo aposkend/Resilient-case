{
 "cells": [
  {
   "cell_type": "code",
   "execution_count": null,
   "id": "e4b682e4",
   "metadata": {},
   "outputs": [],
   "source": [
    "import pandas as pd\n",
    "import numpy as np\n",
    "import ptitprince as pt\n",
    "import seaborn as sns\n",
    "import matplotlib.pyplot as plt"
   ]
  },
  {
   "cell_type": "code",
   "execution_count": null,
   "id": "6418bf61",
   "metadata": {},
   "outputs": [],
   "source": [
    "round1 = []\n",
    "round2 = []\n",
    "for i in range(1,7777): \n",
    "    round1.append(pd.read_csv(\"./behav_3/ER0\"+f'{i:02}'+\"_resCDT_formal_r24fMRI.txt\"))\n",
    "    round2.append(pd.read_csv(\"./behav_3/ER0\"+f'{i:02}'+\"_resCDT_formal_r24fMRI.txt\"))"
   ]
  },
  {
   "cell_type": "markdown",
   "id": "5ad95ee4",
   "metadata": {},
   "source": [
    "# RainCloud Plot 1"
   ]
  },
  {
   "cell_type": "code",
   "execution_count": null,
   "id": "3adee775",
   "metadata": {},
   "outputs": [],
   "source": [
    "data = pd.read_csv('sub_answer.csv')\n",
    "\n",
    "sns.set(style=\"whitegrid\",font_scale=1)\n",
    "f, ax = plt.subplots(figsize=(12, 5))\n",
    "dy=\"round\"; dx=\"resp_value\"; ort=\"h\"; pal = sns.color_palette(n_colors=1)\n",
    "\n",
    "pt.RainCloud(x = \"type\", y = 'RespTimeTarget', hue = \"type\" ,data = data, palette = \"Set2\", bw = 0.1,\n",
    "                 width_viol = .6, ax = ax, orient = \"h\", pointplot = True, alpha = 0.65, dodge = True, move = 0.2)\n",
    "legends = ax.get_children()\n",
    "\n",
    "import matplotlib\n",
    "for item in ax.get_children():\n",
    "   if isinstance(item, matplotlib.legend.Legend):\n",
    "      print(item.texts)\n",
    "      item.set_bbox_to_anchor(bbox=(1.01, 1))\n",
    "   if isinstance(item, matplotlib.patches.PathPatch):\n",
    "      item.set(alpha = 0.64)\n",
    "        \n",
    "plt.xlabel('Response Time', fontsize=16)\n",
    "plt.ylabel('type', fontsize=16)\n",
    "plt.yticks([0, 1, 2], ['negative', 'Neutral', 'positive'])\n",
    "plt.title('Response Time vs type', fontsize=18)\n",
    "plt.tight_layout()\n",
    "plt.savefig('raincloud_rt_type.png')"
   ]
  },
  {
   "cell_type": "markdown",
   "id": "5c4baf5d",
   "metadata": {},
   "source": [
    "# RainCloud Plot 2 (see the result in example plot!)"
   ]
  },
  {
   "cell_type": "code",
   "execution_count": null,
   "id": "72530ce6",
   "metadata": {},
   "outputs": [],
   "source": [
    "sns.set(style=\"whitegrid\",font_scale=1)\n",
    "f, ax = plt.subplots(figsize=(12, 5))\n",
    "dy=\"round\"; dx=\"resp_value\"; ort=\"h\"; pal = sns.color_palette(n_colors=1)\n",
    "\n",
    "pt.RainCloud(x = \"RateButton\", y = 'RespTimeTarget', hue = \"RateButton\" ,data = data[data['RateButton'] != 0], palette = \"Set2\", bw = 0.1,\n",
    "                 width_viol = .6, ax = ax, orient = \"v\", pointplot = False, alpha = 0.65, dodge = False, move = 0.1)\n",
    "legends = ax.get_children()\n",
    "\n",
    "import matplotlib\n",
    "for item in ax.get_children():\n",
    "   if isinstance(item, matplotlib.legend.Legend):\n",
    "      print(item.texts)\n",
    "     # item.set_bbox_to_anchor(bbox=(1.01, 1))\n",
    "   if isinstance(item, matplotlib.patches.PathPatch):\n",
    "      item.set(alpha = 0.64)\n",
    "        \n",
    "data1 = data[data['RateButton'] != 0]\n",
    "means = data1.groupby('RateButton')['RespTimeTarget'].mean().reset_index()\n",
    "means['RateButton'] = means['RateButton'] - 1\n",
    "\n",
    "\n",
    "plt.xlabel('Rate Button', fontsize=16)\n",
    "sns.pointplot(x='RateButton', y='RespTimeTarget', data=means, color='black', scale=0.75, join=True, zorder = 11)\n",
    "plt.scatter(means['RateButton'], means['RespTimeTarget'], color='black', zorder=11)\n",
    "plt.ylabel('Response Time', fontsize=16)\n",
    "plt.xticks([0, 1, 2, 3], ['1', '2', '3', '4'], fontsize=14)\n",
    "plt.xlabel('Rate', fontsize=16)\n",
    "plt.title('Response Time vs Rate', fontsize=18)\n",
    "\n",
    "plt.tight_layout()\n",
    "plt.savefig('raincloud_rtt_ratebut.png')"
   ]
  },
  {
   "cell_type": "markdown",
   "id": "2dc5ae16",
   "metadata": {},
   "source": [
    "# RainCloud Plot 3"
   ]
  },
  {
   "cell_type": "code",
   "execution_count": null,
   "id": "4c27736e",
   "metadata": {},
   "outputs": [],
   "source": [
    "sns.set(style=\"whitegrid\",font_scale=1)\n",
    "f, ax = plt.subplots(figsize=(14, 6))\n",
    "dy=\"round\"; dx=\"resp_value\"; ort=\"h\"; pal = sns.color_palette(n_colors=1)\n",
    "\n",
    "pt.RainCloud(x = \"Type\", y = 'RespTimeTarget', hue = \"Type\" ,data = data, palette = \"Set2\", bw = 0.1,\n",
    "                 width_viol = .6, width_box = 0.25,jitter = 1, ax = ax, orient = \"v\", pointplot = False, alpha = 1, dodge = False, move = 0.1, \n",
    "             order = ['22', '23', '24', '32', '33', '34', '42', '43', '44'], point_size =2)\n",
    "legends = ax.get_children()\n",
    "\n",
    "import matplotlib\n",
    "for item in ax.get_children():\n",
    "   print(item)\n",
    "   if isinstance(item, matplotlib.legend.Legend):\n",
    "      print(item)\n",
    "      item.set_bbox_to_anchor(bbox=(1.01, 1))\n",
    "   if isinstance(item, matplotlib.patches.PathPatch):\n",
    "      item.set(alpha = 0.64)\n",
    "        \n",
    "means = data.groupby('Type')['RespTimeTarget'].mean().reset_index()\n",
    "#sns.pointplot(x = \"Type\", y = \"RespTimeTarget\", hue = \"Type\", data = means,\n",
    "#                          orient = \"v\", order = ['22', '23', '24', '32', '33', '34', '42', '43', '44'],\n",
    "#                          dodge = 0.25 * (1 - 1 / 1), palette = \"Set2\", ax = ax, join=True)\n",
    "\n",
    "\n",
    "        \n",
    "\n",
    "sns.pointplot(x='Type', y='RespTimeTarget', data=means, color='black', scale=0.75, join=True, zorder = 11)\n",
    "plt.scatter(means['Type'], means['RespTimeTarget'], color='black', zorder=11)\n",
    "plt.xticks([0, 1, 2, 3, 4, 5, 6, 7, 8], ['IN', 'INE', 'IP'\n",
    "                                        , 'NN', 'NNE', 'NP', 'CN', \n",
    "                                        'CN', 'CP'], rotation=30)\n",
    "plt.xlabel('Type1 vs Type2', fontsize=16)\n",
    "plt.ylabel('Response Time', fontsize=16)\n",
    "plt.title('Response Time vs Type1 vs Type2', fontsize=18)\n",
    "plt.tight_layout()\n",
    "plt.savefig('raincloud_type_t.png')"
   ]
  },
  {
   "cell_type": "markdown",
   "id": "0280de02",
   "metadata": {},
   "source": [
    "# Some private info has been removed!"
   ]
  },
  {
   "cell_type": "code",
   "execution_count": null,
   "id": "dfb37184",
   "metadata": {},
   "outputs": [],
   "source": []
  }
 ],
 "metadata": {
  "kernelspec": {
   "display_name": "Python 3 (ipykernel)",
   "language": "python",
   "name": "python3"
  },
  "language_info": {
   "codemirror_mode": {
    "name": "ipython",
    "version": 3
   },
   "file_extension": ".py",
   "mimetype": "text/x-python",
   "name": "python",
   "nbconvert_exporter": "python",
   "pygments_lexer": "ipython3",
   "version": "3.10.9"
  }
 },
 "nbformat": 4,
 "nbformat_minor": 5
}
