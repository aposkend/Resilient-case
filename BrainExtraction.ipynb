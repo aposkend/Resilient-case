{
 "cells": [
  {
   "cell_type": "code",
   "execution_count": null,
   "id": "1dd1dacc",
   "metadata": {},
   "outputs": [],
   "source": [
    "import subprocess\n",
    "import pandas as pd\n",
    "import numpy as np"
   ]
  },
  {
   "cell_type": "markdown",
   "id": "fec4cd65",
   "metadata": {},
   "source": [
    "### Activated brain area extraction"
   ]
  },
  {
   "cell_type": "code",
   "execution_count": null,
   "id": "99ea9a7a",
   "metadata": {},
   "outputs": [],
   "source": [
    "ls = [...] [#type1, ......]\n",
    "    \n",
    "ls2 = [...] [#type2 ....]\n",
    "    \n",
    "image = ['filtered_func_data', 'var_filtered_func_data']\n",
    "norms = ['cluster_mask_zstat1',\n",
    "         'mean_func',\n",
    "         'mask',\n",
    "         'rendered_thresh_zstat1',\n",
    "         'thresh_zstat1'\n",
    "         ]\n",
    "stats = ['cope1', \n",
    "         'pe1', \n",
    "         #'res4d', \n",
    "         'tdof_t1', \n",
    "         'tstat1', \n",
    "         'varcope1', \n",
    "         #'weights1', \n",
    "         'zflame1lowertstat1', \n",
    "         'zflame1uppertstat1', \n",
    "         'zstat1']#.nii.gz"
   ]
  },
  {
   "cell_type": "code",
   "execution_count": null,
   "id": "809fa29e",
   "metadata": {},
   "outputs": [],
   "source": [
    "df = pd.DataFrame([])"
   ]
  },
  {
   "cell_type": "code",
   "execution_count": null,
   "id": "5bc760dd",
   "metadata": {},
   "outputs": [],
   "source": [
    "def write(ls, image, mask, stdout):\n",
    "    stdout = stdout[2:-1]\n",
    "    stdouts = stdout.split(\"\\\\n\")\n",
    "    df[f'{ls}/{image}/{mask}'] = stdouts\n",
    "    print(stdouts)\n",
    "    \n",
    "\n",
    "def write2(cond, altas, ans, size, zscore, x, y, z):\n",
    "    stdout = [cond, altas, ans.split('<br>')[1].split('\\\\n')[0],size, zscore, x, y, z]\n",
    "    print(stdout)\n",
    "    data.append(stdout)\n",
    "    "
   ]
  },
  {
   "cell_type": "code",
   "execution_count": null,
   "id": "2c743820",
   "metadata": {},
   "outputs": [],
   "source": [
    "xyz = [\n",
    "    ['rate2', 16, -912, -14, 64251, 12.15],\n",
    "    ['rate2', -28,48,14, 373, 4.76],\n",
    "    ['rate3', 992, -120, -14, 339955, 7.82],\n",
    "    ['rate3', 122,26,-8, 6393, 7],\n",
    "    ['rate3', 4,20,42, 62333, 7.67],\n",
    "    ['rate4', -268,124,6,359,4.4],\n",
    "    ['rate4', -72,-96,-16,53001, 7.79],\n",
    "    #examples .......\n",
    "\n",
    "\n",
    "]\n",
    "\n",
    "data = []"
   ]
  },
  {
   "cell_type": "code",
   "execution_count": null,
   "id": "377d5caa",
   "metadata": {},
   "outputs": [],
   "source": [
    "for i in xyz:\n",
    "    p = subprocess.check_output(f'atlasquery -a \"MNI Structural Atlas\" -c {i[1]},{i[2]},{i[3]}', shell=True)\n",
    "    write2(i[0], 'MNI', str(p),i[4], i[5], i[1],i[2], i[3])\n",
    "    p = subprocess.check_output(f'atlasquery -a \"Harvard-Oxford Cortical Structural Atlas\" -c {i[1]},{i[2]},{i[3]}', shell=True)\n",
    "    write2(i[0], 'Havard', str(p),i[4], i[5], i[1],i[2], i[3])\n",
    "\n",
    "df = pd.DataFrame(data, columns=['Condition', 'Atlas', 'Region', 'size', 'z-score', 'x', 'y', 'z'])"
   ]
  },
  {
   "cell_type": "code",
   "execution_count": null,
   "id": "30ebf800",
   "metadata": {},
   "outputs": [],
   "source": [
    "df.to_csv('region.csv')"
   ]
  },
  {
   "cell_type": "code",
   "execution_count": null,
   "id": "108b6fe2",
   "metadata": {},
   "outputs": [],
   "source": [
    "data = []\n",
    "\n",
    "for i in ls:\n",
    "    print(i)\n",
    "    p = subprocess.check_output(f'fslmeants -i ./{i}.gfeat/cope1.feat/filtered_func_data.nii.gz -m ../A1.nii.gz',shell = True)\n",
    "    write(i, image[0], 'A1', str(p))\n",
    "\n",
    "for i in ls2:\n",
    "    print(i)\n",
    "    p = subprocess.check_output(f'fslmeants -i ../third6/{i}.gfeat/cope1.feat/filtered_func_data.nii.gz -m ../A1.nii.gz',shell = True)\n",
    "    write(i, image[0], 'A1', str(p))\n",
    "\n",
    "for i in ls:\n",
    "    print(i)\n",
    "    p = subprocess.check_output(f'fslmeants -i ./{i}.gfeat/cope1.feat/filtered_func_data.nii.gz -m ../A2.nii.gz',shell = True)\n",
    "    write(i, image[0], 'A2', str(p))\n",
    "\n",
    "for i in ls2:\n",
    "    print(i)\n",
    "    p = subprocess.check_output(f'fslmeants -i ../third6/{i}.gfeat/cope1.feat/filtered_func_data.nii.gz -m ../A2.nii.gz',shell = True)\n",
    "    write(i, image[0], 'A2', str(p))\n",
    "    \n",
    "df = pd.DataFrame(data, columns=['Condition', 'Atlas', 'Region', 'size', 'z-score', 'x', 'y', 'z'])"
   ]
  },
  {
   "cell_type": "code",
   "execution_count": null,
   "id": "62e641f4",
   "metadata": {},
   "outputs": [],
   "source": [
    "df.to_csv('Amy.csv')"
   ]
  },
  {
   "cell_type": "markdown",
   "id": "28941fe9",
   "metadata": {},
   "source": [
    "#### Private info are removed !"
   ]
  }
 ],
 "metadata": {
  "kernelspec": {
   "display_name": "Python 3 (ipykernel)",
   "language": "python",
   "name": "python3"
  },
  "language_info": {
   "codemirror_mode": {
    "name": "ipython",
    "version": 3
   },
   "file_extension": ".py",
   "mimetype": "text/x-python",
   "name": "python",
   "nbconvert_exporter": "python",
   "pygments_lexer": "ipython3",
   "version": "3.10.9"
  }
 },
 "nbformat": 4,
 "nbformat_minor": 5
}
