{
 "cells": [
  {
   "cell_type": "code",
   "execution_count": 1,
   "metadata": {},
   "outputs": [
    {
     "name": "stdout",
     "output_type": "stream",
     "text": [
      "zsh:1: command not found: pip\n",
      "zsh:1: command not found: pip\n",
      "zsh:1: command not found: pip\n"
     ]
    }
   ],
   "source": [
    "!pip install git+https://github.com/lnccbrown/hssm@main\n",
    "!pip install git+https://github.com/brown-ccv/hddm-wfpt@main\n",
    "!pip install numpyro"
   ]
  },
  {
   "cell_type": "code",
   "execution_count": 1,
   "metadata": {},
   "outputs": [
    {
     "name": "stdout",
     "output_type": "stream",
     "text": [
      "Requirement already satisfied: dask in ./.pyenv/versions/3.10.2/lib/python3.10/site-packages (2023.8.1)\n",
      "Requirement already satisfied: fsspec>=2021.09.0 in ./.pyenv/versions/3.10.2/lib/python3.10/site-packages (from dask) (2023.6.0)\n",
      "Requirement already satisfied: click>=8.0 in ./.pyenv/versions/3.10.2/lib/python3.10/site-packages (from dask) (8.1.7)\n",
      "Requirement already satisfied: packaging>=20.0 in ./.pyenv/versions/3.10.2/lib/python3.10/site-packages (from dask) (23.0)\n",
      "Requirement already satisfied: partd>=1.2.0 in ./.pyenv/versions/3.10.2/lib/python3.10/site-packages (from dask) (1.4.0)\n",
      "Requirement already satisfied: importlib-metadata>=4.13.0 in ./.pyenv/versions/3.10.2/lib/python3.10/site-packages (from dask) (6.8.0)\n",
      "Requirement already satisfied: toolz>=0.10.0 in ./.pyenv/versions/3.10.2/lib/python3.10/site-packages (from dask) (0.12.0)\n",
      "Requirement already satisfied: pyyaml>=5.3.1 in ./.pyenv/versions/3.10.2/lib/python3.10/site-packages (from dask) (6.0)\n",
      "Requirement already satisfied: cloudpickle>=1.5.0 in ./.pyenv/versions/3.10.2/lib/python3.10/site-packages (from dask) (2.2.1)\n",
      "Requirement already satisfied: zipp>=0.5 in ./.pyenv/versions/3.10.2/lib/python3.10/site-packages (from importlib-metadata>=4.13.0->dask) (3.16.2)\n",
      "Requirement already satisfied: locket in ./.pyenv/versions/3.10.2/lib/python3.10/site-packages (from partd>=1.2.0->dask) (1.0.0)\n",
      "\u001b[33mWARNING: You are using pip version 21.2.4; however, version 23.2.1 is available.\n",
      "You should consider upgrading via the '/Users/jonner/.pyenv/versions/3.10.2/bin/python3.10 -m pip install --upgrade pip' command.\u001b[0m\n"
     ]
    }
   ],
   "source": [
    "!pip install dask"
   ]
  },
  {
   "cell_type": "code",
   "execution_count": 2,
   "metadata": {},
   "outputs": [],
   "source": [
    "import os\n",
    "import sys\n",
    "import time\n",
    "from matplotlib import pyplot as plt\n",
    "import arviz as az\n",
    "import pytensor\n",
    "import hssm\n",
    "import hddm_wfpt\n",
    "import bambi as bmb\n",
    "from ssms.basic_simulators import simulator\n",
    "import pandas as pd\n",
    "import numpy as np\n",
    "import dask\n",
    "import arviz as az\n",
    "import dask\n",
    "\n",
    "from arviz.utils import conditional_jit, Dask"
   ]
  },
  {
   "cell_type": "code",
   "execution_count": 3,
   "metadata": {},
   "outputs": [
    {
     "name": "stdout",
     "output_type": "stream",
     "text": [
      "Setting PyTensor floatX type to float64.\n",
      "Setting \"jax_enable_x64\" to True. If this is not intended, please set `jax` to False.\n"
     ]
    }
   ],
   "source": [
    "hssm.set_floatX(\"float64\")"
   ]
  },
  {
   "cell_type": "code",
   "execution_count": 5,
   "metadata": {},
   "outputs": [],
   "source": [
    "data=pd.read_csv('ddm.txt', sep='\\t')\n",
    "data = data[data['response'] !=4]"
   ]
  },
  {
   "cell_type": "code",
   "execution_count": 15,
   "metadata": {},
   "outputs": [],
   "source": [
    "#v ~ 1 + stim:C(cond)\n",
    "m = hssm.HSSM(data=data[['rt', 'response', 'Type1','Type2']], include=[\n",
    "        {\n",
    "            \"name\": \"v\",\n",
    "            \"formula\": \"v ~ 1 + (1|Type1) + (1|Type2)\",\n",
    "            \"link\": \"identity\",\n",
    "        },\n",
    "        ], model='ddm')"
   ]
  },
  {
   "cell_type": "code",
   "execution_count": null,
   "metadata": {},
   "outputs": [],
   "source": [
    "infer_data_simple_ddm_model = m.sample(\n",
    "    sampler=\"nuts_numpyro\",  # type of sampler to choose, 'nuts_numpyro', 'nuts_blackjax' of default pymc nuts sampler\n",
    "    cores=5,  # how many cores to use\n",
    "    chains=5,  # how many chains to run\n",
    "    draws=120,  # number of draws from the markov chain\n",
    "    tune=120,  # number of burn-in samples\n",
    "    idata_kwargs=dict(log_likelihood=True),  # return log likelihood\n",
    ")  # mp_ctx=\"forkserver\")"
   ]
  },
  {
   "cell_type": "code",
   "execution_count": null,
   "metadata": {},
   "outputs": [],
   "source": [
    "infer_data_simple_ddm_model"
   ]
  },
  {
   "cell_type": "code",
   "execution_count": null,
   "metadata": {},
   "outputs": [],
   "source": [
    "Dask.enable_dask(dask_kwargs={\"dask\": \"parallelized\", \"output_dtypes\": [float]})"
   ]
  },
  {
   "cell_type": "code",
   "execution_count": null,
   "metadata": {},
   "outputs": [],
   "source": [
    "az.plot_trace(\n",
    "    infer_data_simple_ddm_model,\n",
    "    var_names=\"~log_likelihood\",  # we exclude the log_likelihood traces here\n",
    "    legend = True\n",
    ")\n",
    "plt.tight_layout()"
   ]
  },
  {
   "cell_type": "code",
   "execution_count": 15,
   "metadata": {},
   "outputs": [
    {
     "data": {
      "text/html": [
       "<div>\n",
       "<style scoped>\n",
       "    .dataframe tbody tr th:only-of-type {\n",
       "        vertical-align: middle;\n",
       "    }\n",
       "\n",
       "    .dataframe tbody tr th {\n",
       "        vertical-align: top;\n",
       "    }\n",
       "\n",
       "    .dataframe thead th {\n",
       "        text-align: right;\n",
       "    }\n",
       "</style>\n",
       "<table border=\"1\" class=\"dataframe\">\n",
       "  <thead>\n",
       "    <tr style=\"text-align: right;\">\n",
       "      <th></th>\n",
       "      <th>mean</th>\n",
       "      <th>sd</th>\n",
       "      <th>hdi_3%</th>\n",
       "      <th>hdi_97%</th>\n",
       "      <th>mcse_mean</th>\n",
       "      <th>mcse_sd</th>\n",
       "      <th>ess_bulk</th>\n",
       "      <th>ess_tail</th>\n",
       "      <th>r_hat</th>\n",
       "    </tr>\n",
       "  </thead>\n",
       "  <tbody>\n",
       "    <tr>\n",
       "      <th>v</th>\n",
       "      <td>-3.194</td>\n",
       "      <td>0.395</td>\n",
       "      <td>-4.022</td>\n",
       "      <td>-2.597</td>\n",
       "      <td>0.050</td>\n",
       "      <td>0.035</td>\n",
       "      <td>64.0</td>\n",
       "      <td>67.0</td>\n",
       "      <td>1.04</td>\n",
       "    </tr>\n",
       "    <tr>\n",
       "      <th>a</th>\n",
       "      <td>2.184</td>\n",
       "      <td>0.690</td>\n",
       "      <td>1.178</td>\n",
       "      <td>3.606</td>\n",
       "      <td>0.081</td>\n",
       "      <td>0.057</td>\n",
       "      <td>69.0</td>\n",
       "      <td>92.0</td>\n",
       "      <td>1.06</td>\n",
       "    </tr>\n",
       "    <tr>\n",
       "      <th>t</th>\n",
       "      <td>0.261</td>\n",
       "      <td>0.108</td>\n",
       "      <td>0.021</td>\n",
       "      <td>0.397</td>\n",
       "      <td>0.014</td>\n",
       "      <td>0.010</td>\n",
       "      <td>63.0</td>\n",
       "      <td>62.0</td>\n",
       "      <td>1.03</td>\n",
       "    </tr>\n",
       "    <tr>\n",
       "      <th>z</th>\n",
       "      <td>0.546</td>\n",
       "      <td>0.140</td>\n",
       "      <td>0.299</td>\n",
       "      <td>0.776</td>\n",
       "      <td>0.015</td>\n",
       "      <td>0.010</td>\n",
       "      <td>93.0</td>\n",
       "      <td>102.0</td>\n",
       "      <td>1.05</td>\n",
       "    </tr>\n",
       "  </tbody>\n",
       "</table>\n",
       "</div>"
      ],
      "text/plain": [
       "    mean     sd  hdi_3%  hdi_97%  mcse_mean  mcse_sd  ess_bulk  ess_tail  \\\n",
       "v -3.194  0.395  -4.022   -2.597      0.050    0.035      64.0      67.0   \n",
       "a  2.184  0.690   1.178    3.606      0.081    0.057      69.0      92.0   \n",
       "t  0.261  0.108   0.021    0.397      0.014    0.010      63.0      62.0   \n",
       "z  0.546  0.140   0.299    0.776      0.015    0.010      93.0     102.0   \n",
       "\n",
       "   r_hat  \n",
       "v   1.04  \n",
       "a   1.06  \n",
       "t   1.03  \n",
       "z   1.05  "
      ]
     },
     "execution_count": 15,
     "metadata": {},
     "output_type": "execute_result"
    }
   ],
   "source": [
    "az.summary(infer_data_simple_ddm_model)"
   ]
  },
  {
   "cell_type": "code",
   "execution_count": null,
   "metadata": {},
   "outputs": [],
   "source": []
  }
 ],
 "metadata": {
  "kernelspec": {
   "display_name": "Python 3 (ipykernel)",
   "language": "python",
   "name": "python3"
  },
  "language_info": {
   "codemirror_mode": {
    "name": "ipython",
    "version": 3
   },
   "file_extension": ".py",
   "mimetype": "text/x-python",
   "name": "python",
   "nbconvert_exporter": "python",
   "pygments_lexer": "ipython3",
   "version": "3.10.9"
  },
  "vscode": {
   "interpreter": {
    "hash": "0550ed0d25cd097b81d5e800ae0661453ef8bba989b1dfe8925748d7e259ac9f"
   }
  }
 },
 "nbformat": 4,
 "nbformat_minor": 2
}
